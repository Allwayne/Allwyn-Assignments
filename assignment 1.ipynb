{
 "cells": [
  {
   "cell_type": "markdown",
   "metadata": {},
   "source": [
    "1. In the below elements which of them are values or an expression? eg:- values can be integer or string and expressions will be mathematical operators.\n",
    "* \n",
    "'hello'\n",
    "-87.8\n",
    "- \n",
    "/ \n",
    "+\t\n",
    "6 \n",
    "Ans: *, -87.8, - , / , / , + , 6 are Values or an expression\n",
    "\n",
    "2. What is the difference between string and variable?\n",
    "    String- list of Character or grouping of characters\n",
    "    Variable- Character assingned to a string so that it can be called onto a function\n",
    "\n",
    "3. Describe three different data types.\n",
    "   Boolean - assigns True(1) or False(0)\n",
    "   Numeric - Numbers that are Integer, Float or imaginary(numerical value assigned)\n",
    "   Dictionary - Used to store colection of Values\n",
    "   \n",
    "\n",
    "4. What is an expression made up of? What do all expressions do?\n",
    "   Expressioms are made of mathematical operation and operands and it is used to execute a mathematical function\n",
    "   \n",
    "   \n",
    "5. This assignment statements, like spam = 10. What is the difference between an expression and a statement?\n",
    "   Statement is an intruction for execution and expession is just a execution of an operation.\n",
    "   \n",
    "6. After running the following code, what does the variable bacon contain?\n",
    "bacon = 22\n",
    "bacon + 1\n",
    "   Ans: 23\n",
    "   \n",
    "7. What should the values of the following two terms be?\n",
    "'spam' + 'spamspam'\n",
    "'spam' * 3\n",
    "   Ans: 'spamspamspam'\n",
    "   \n",
    "8. Why is eggs a valid variable name while 100 is invalid?\n",
    "   Ans: eggs is treated variable since it is a string but 100 a value i.e an integer\n",
    "   \n",
    "9. What three functions can be used to get the integer, floating-point number, or string version of a value?\n",
    "   int(), float(), str()\n",
    "   \n",
    "10. Why does this expression cause an error? How can you fix it?\n",
    "'I have eaten ' + 99 + ' burritos.'\n",
    "    Ans: 'I have eaten  99  burritos.'\n",
    "\n",
    "\n"
   ]
  },
  {
   "cell_type": "code",
   "execution_count": null,
   "metadata": {},
   "outputs": [],
   "source": []
  }
 ],
 "metadata": {
  "kernelspec": {
   "display_name": "Python 3",
   "language": "python",
   "name": "python3"
  },
  "language_info": {
   "codemirror_mode": {
    "name": "ipython",
    "version": 3
   },
   "file_extension": ".py",
   "mimetype": "text/x-python",
   "name": "python",
   "nbconvert_exporter": "python",
   "pygments_lexer": "ipython3",
   "version": "3.7.4"
  }
 },
 "nbformat": 4,
 "nbformat_minor": 2
}
